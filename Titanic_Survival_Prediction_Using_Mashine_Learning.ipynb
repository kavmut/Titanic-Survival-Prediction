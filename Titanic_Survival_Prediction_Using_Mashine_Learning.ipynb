{
  "nbformat": 4,
  "nbformat_minor": 0,
  "metadata": {
    "colab": {
      "name": "Titanic Survival Prediction Using Mashine Learning.ipynb",
      "provenance": [],
      "private_outputs": true,
      "collapsed_sections": [],
      "authorship_tag": "ABX9TyMekLWyTrYom+Pw+iQUwd97",
      "include_colab_link": true
    },
    "kernelspec": {
      "name": "python3",
      "display_name": "Python 3"
    }
  },
  "cells": [
    {
      "cell_type": "markdown",
      "metadata": {
        "id": "view-in-github",
        "colab_type": "text"
      },
      "source": [
        "<a href=\"https://colab.research.google.com/github/kavmut/Titanic-Survival-Prediction/blob/master/Titanic_Survival_Prediction_Using_Mashine_Learning.ipynb\" target=\"_parent\"><img src=\"https://colab.research.google.com/assets/colab-badge.svg\" alt=\"Open In Colab\"/></a>"
      ]
    },
    {
      "cell_type": "code",
      "metadata": {
        "id": "PGKdjzszT5uo",
        "colab_type": "code",
        "colab": {}
      },
      "source": [
        "# Description: This program predicts if a pasenger will survie on the titanic"
      ],
      "execution_count": null,
      "outputs": []
    },
    {
      "cell_type": "code",
      "metadata": {
        "id": "eiP8PS6vUOk4",
        "colab_type": "code",
        "colab": {}
      },
      "source": [
        "# Import The Libraries\n",
        "import matplotlib.pyplot as plt\n",
        "import numpy as np\n",
        "import pandas as pd\n",
        "import seaborn as sns\n"
      ],
      "execution_count": null,
      "outputs": []
    },
    {
      "cell_type": "code",
      "metadata": {
        "id": "cX8eKPInUsP-",
        "colab_type": "code",
        "colab": {}
      },
      "source": [
        "# Load the data\n",
        "titanic = sns.load_dataset('titanic')\n",
        "\n",
        "# Print the first rows of the data\n",
        "titanic.head(10)"
      ],
      "execution_count": null,
      "outputs": []
    },
    {
      "cell_type": "code",
      "metadata": {
        "id": "XYtnqjp7VMRD",
        "colab_type": "code",
        "colab": {}
      },
      "source": [
        "# Count the number of rows and columns in the data set\n",
        "titanic.shape"
      ],
      "execution_count": null,
      "outputs": []
    },
    {
      "cell_type": "code",
      "metadata": {
        "id": "aURRSmAqVlhp",
        "colab_type": "code",
        "colab": {}
      },
      "source": [
        "# Get some statistics\n",
        "titanic.describe()"
      ],
      "execution_count": null,
      "outputs": []
    },
    {
      "cell_type": "code",
      "metadata": {
        "id": "x185xUCaWOjC",
        "colab_type": "code",
        "colab": {}
      },
      "source": [
        "# Get a count of the number of survivors\n",
        "titanic['survived'].value_counts()"
      ],
      "execution_count": null,
      "outputs": []
    },
    {
      "cell_type": "code",
      "metadata": {
        "id": "5Vc9ErKwWwtF",
        "colab_type": "code",
        "colab": {}
      },
      "source": [
        "# Visualize the count of surviviurs\n",
        "sns.countplot( titanic['survived'] )"
      ],
      "execution_count": null,
      "outputs": []
    },
    {
      "cell_type": "code",
      "metadata": {
        "id": "cHQWUlBGXGoE",
        "colab_type": "code",
        "colab": {}
      },
      "source": [
        "# Visualize the count of survivors  ['who', 'sex', 'pclass', 'sibsp', 'parch', 'embarked']\n",
        "\n",
        "cols = ['who', 'sex', 'pclass', 'sibsp', 'parch', 'embarked']\n",
        "\n",
        "n_rows = 2\n",
        "n_cols = 3\n",
        "\n",
        "# The subplot grid and figure size of each graph\n",
        "fig, axs = plt.subplots(n_rows, n_cols, figsize = (n_cols *3.2, n_rows * 3.2))\n",
        "\n",
        "for r in range(0, n_rows):\n",
        "  for c in range(0, n_cols):\n",
        "\n",
        "     i = r*n_cols + c # index to go through the number of columns\n",
        "     ax = axs[r][c] # Show where to position each sub plot\n",
        "     sns.countplot(titanic[cols[i]], hue=titanic['survived'], ax=ax)\n",
        "     ax.set_title(cols[i])\n",
        "     ax.legend(title='survived', loc = 'upper right')\n",
        "\n",
        "plt.tight_layout()\n",
        "\n"
      ],
      "execution_count": null,
      "outputs": []
    },
    {
      "cell_type": "code",
      "metadata": {
        "id": "er2CYo0i22Xb",
        "colab_type": "code",
        "colab": {}
      },
      "source": [
        "# Look at survival rate by sex\n",
        "titanic.groupby('sex')[['survived']].mean()"
      ],
      "execution_count": null,
      "outputs": []
    },
    {
      "cell_type": "code",
      "metadata": {
        "id": "Lo1xKhxz3Sdi",
        "colab_type": "code",
        "colab": {}
      },
      "source": [
        "# Look at survival rate by sex and class\n",
        "titanic.pivot_table('survived', index='sex', columns='class')"
      ],
      "execution_count": null,
      "outputs": []
    },
    {
      "cell_type": "code",
      "metadata": {
        "id": "IXbEIFf88utL",
        "colab_type": "code",
        "colab": {}
      },
      "source": [
        "# Look at survival rate by sex and class visually\n",
        "titanic.pivot_table('survived', index='sex', columns='class').plot()"
      ],
      "execution_count": null,
      "outputs": []
    },
    {
      "cell_type": "code",
      "metadata": {
        "id": "tNiAZbHr9Lto",
        "colab_type": "code",
        "colab": {}
      },
      "source": [
        "#Plot the survival of each class\n",
        "sns.barplot(x='class', y='survived', data= titanic)"
      ],
      "execution_count": null,
      "outputs": []
    },
    {
      "cell_type": "code",
      "metadata": {
        "id": "b50ChotA-Da9",
        "colab_type": "code",
        "colab": {}
      },
      "source": [
        "# Look at survival rate by sex, age and class\n",
        "age = pd.cut(titanic['age'], [0,18,80] )\n",
        "titanic.pivot_table('survived', ['sex', age], 'class' )"
      ],
      "execution_count": null,
      "outputs": []
    },
    {
      "cell_type": "code",
      "metadata": {
        "id": "OqXZpumT-tke",
        "colab_type": "code",
        "colab": {}
      },
      "source": [
        "# Plot the prices paid of each class\n",
        "plt.scatter(titanic['fare'], titanic['class'], color= 'purple', label='Passenger Paid' )\n",
        "plt.ylabel('Class')\n",
        "plt.xlabel('Price / Fare')\n",
        "plt.title('Price of Each Class')\n",
        "plt.legend()\n",
        "plt.show()"
      ],
      "execution_count": null,
      "outputs": []
    },
    {
      "cell_type": "code",
      "metadata": {
        "id": "yFrDZ-n1FFrQ",
        "colab_type": "code",
        "colab": {}
      },
      "source": [
        "# Count the empty Values in each column\n",
        "titanic.isna().sum()"
      ],
      "execution_count": null,
      "outputs": []
    },
    {
      "cell_type": "code",
      "metadata": {
        "id": "qDKOY3B1FeHe",
        "colab_type": "code",
        "colab": {}
      },
      "source": [
        "# Look at the all of the values in each column & get a count\n",
        "for val in titanic:\n",
        "  print(titanic[val].value_counts())\n",
        "  print()"
      ],
      "execution_count": null,
      "outputs": []
    },
    {
      "cell_type": "code",
      "metadata": {
        "id": "tko6T2hHGPqK",
        "colab_type": "code",
        "colab": {}
      },
      "source": [
        "# Drop the columns\n",
        "titanic = titanic.drop(['deck', 'embark_town', 'alive', 'class', 'who', 'alone', 'adult_male'], axis=1)\n",
        "\n",
        "# Remove the rows with misssing values\n",
        "titanic = titanic.dropna( subset= ['embarked', 'age'])"
      ],
      "execution_count": null,
      "outputs": []
    },
    {
      "cell_type": "code",
      "metadata": {
        "id": "MimgRTT7HlxD",
        "colab_type": "code",
        "colab": {}
      },
      "source": [
        "# Count the new number of rows and columns in the data set\n",
        "titanic.shape"
      ],
      "execution_count": null,
      "outputs": []
    },
    {
      "cell_type": "code",
      "metadata": {
        "id": "mVQNNCOrNjD2",
        "colab_type": "code",
        "colab": {}
      },
      "source": [
        "# Look at the data types\n",
        "titanic.dtypes"
      ],
      "execution_count": null,
      "outputs": []
    },
    {
      "cell_type": "code",
      "metadata": {
        "id": "NGQBdjZYQjvQ",
        "colab_type": "code",
        "colab": {}
      },
      "source": [
        "# Print the unique values in the columns\n",
        "print(titanic['sex'].unique())\n",
        "print(titanic['embarked'].unique())"
      ],
      "execution_count": null,
      "outputs": []
    },
    {
      "cell_type": "code",
      "metadata": {
        "id": "YcTTFYa_NpPL",
        "colab_type": "code",
        "colab": {}
      },
      "source": [
        "from sklearn.preprocessing import LabelEncoder\n",
        "labelEncoder = LabelEncoder()\n",
        "\n",
        "# Encode the sex column\n",
        "titanic.iloc[:,2] = labelEncoder.fit_transform( titanic.iloc[:,2].values )\n",
        "\n",
        "# Encode the embarked column\n",
        "titanic.iloc[:,7] = labelEncoder.fit_transform( titanic.iloc[:,7].values )"
      ],
      "execution_count": null,
      "outputs": []
    },
    {
      "cell_type": "code",
      "metadata": {
        "id": "grKC8yviQhHn",
        "colab_type": "code",
        "colab": {}
      },
      "source": [
        "# Print the unique values in the columns\n",
        "print(titanic['sex'].unique())\n",
        "print(titanic['embarked'].unique())"
      ],
      "execution_count": null,
      "outputs": []
    },
    {
      "cell_type": "code",
      "metadata": {
        "id": "NXmmg1CKRbNp",
        "colab_type": "code",
        "colab": {}
      },
      "source": [
        "titanic.dtypes"
      ],
      "execution_count": null,
      "outputs": []
    },
    {
      "cell_type": "code",
      "metadata": {
        "id": "O_S0VTN6SY1A",
        "colab_type": "code",
        "colab": {}
      },
      "source": [
        "# Split the data into independant 'X' and dpendant 'Y' variables\n",
        "X = titanic.iloc[:, 1:8].values\n",
        "Y = titanic.iloc[:, 0].values"
      ],
      "execution_count": null,
      "outputs": []
    },
    {
      "cell_type": "code",
      "metadata": {
        "id": "EKv0oedoTP7Y",
        "colab_type": "code",
        "colab": {}
      },
      "source": [
        "# Split the dataset into 80% training and 20% testing\n",
        "from sklearn.model_selection import train_test_split\n",
        "X_train, X_test, Y_train, Y_test = train_test_split(X, Y, test_size=0.2, random_state=0)"
      ],
      "execution_count": null,
      "outputs": []
    },
    {
      "cell_type": "code",
      "metadata": {
        "id": "A78Qv00aUfKH",
        "colab_type": "code",
        "colab": {}
      },
      "source": [
        "# Scale the data\n",
        "from sklearn.preprocessing import StandardScaler\n",
        "sc = StandardScaler()\n",
        "X_train = sc.fit_transform(X_train)\n",
        "X_test = sc.fit_transform(X_test)"
      ],
      "execution_count": null,
      "outputs": []
    },
    {
      "cell_type": "code",
      "metadata": {
        "id": "9fXZNl3nTDMG",
        "colab_type": "code",
        "colab": {}
      },
      "source": [
        "# Create a function with many maschine learning models\n",
        "def models(X_train, Y_train):\n",
        "\n",
        "  # Use Logistic Regression\n",
        "  from sklearn.linear_model import LogisticRegression\n",
        "  log = LogisticRegression(random_state = 0)\n",
        "  log.fit(X_train, Y_train)\n",
        "\n",
        "  # Use KNeighbours\n",
        "  from sklearn.neighbors import KNeighborsClassifier\n",
        "  knn = KNeighborsClassifier(n_neighbors = 5, metric = 'minkowski', p=2)\n",
        "  knn.fit(X_train, Y_train)\n",
        "\n",
        "  # Use SVC (linear kernel)\n",
        "  from sklearn.svm import SVC\n",
        "  svc_lin = SVC(kernel='linear', random_state = 0)\n",
        "  svc_lin.fit(X_train, Y_train)\n",
        "\n",
        "  # Use SVC (RBF kernel)\n",
        "  from sklearn.svm import SVC\n",
        "  svc_rbf = SVC(kernel='rbf', random_state = 0)\n",
        "  svc_rbf.fit(X_train, Y_train)\n",
        "\n",
        "  # Use GaussianNB\n",
        "  from sklearn.naive_bayes import GaussianNB\n",
        "  gauss = GaussianNB()\n",
        "  gauss.fit(X_train, Y_train)\n",
        "\n",
        "  # Use Decision Tree\n",
        "  from sklearn.tree import DecisionTreeClassifier\n",
        "  tree = DecisionTreeClassifier(criterion = 'entropy', random_state = 0)\n",
        "  tree.fit(X_train, Y_train)\n",
        "\n",
        "  # Use the RandomForestClassifier\n",
        "  from sklearn.ensemble import RandomForestClassifier\n",
        "  forest = RandomForestClassifier(n_estimators=10, criterion = 'entropy', random_state = 0)\n",
        "  forest.fit(X_train, Y_train)\n",
        "\n",
        "  # Print the training accuracy for each model\n",
        "  print('[0]Logistic Regression Training Accuracy: ', log.score(X_train, Y_train))\n",
        "  print('[1]K Neighbors Training Accuracy: ', knn.score(X_train, Y_train))\n",
        "  print('[2]SVC Linear Training Accuracy: ', svc_lin.score(X_train, Y_train))\n",
        "  print('[3]SVC RBF Training Accuracy: ', svc_rbf.score(X_train, Y_train))\n",
        "  print('[4]Gaussian NB Training Accuracy: ', gauss.score(X_train, Y_train))\n",
        "  print('[5]Decision Tree Training Accuracy: ', tree.score(X_train, Y_train))\n",
        "  print('[6]Random Forest Training Accuracy: ', forest.score(X_train, Y_train))\n",
        "\n",
        "  return log, knn, svc_lin, svc_rbf, gauss, tree, forest\n",
        "\n"
      ],
      "execution_count": null,
      "outputs": []
    },
    {
      "cell_type": "code",
      "metadata": {
        "id": "88mH_NPShAVf",
        "colab_type": "code",
        "colab": {}
      },
      "source": [
        "# Get and train all of the models\n",
        "model = models(X_train, Y_train)"
      ],
      "execution_count": null,
      "outputs": []
    },
    {
      "cell_type": "code",
      "metadata": {
        "id": "RQ4spEltjw_y",
        "colab_type": "code",
        "colab": {}
      },
      "source": [
        "# Show the confusion matrix and accuracy for all of the models on the test data\n",
        "from sklearn.metrics import confusion_matrix\n",
        "\n",
        "for i in range( len(model) ):\n",
        "  cm = confusion_matrix(Y_test, model[i].predict(X_test))\n",
        "\n",
        "  # Extract TN, FP, FN, TP\n",
        "  TN, FP, FN, TP = confusion_matrix(Y_test, model[i].predict(X_test)).ravel()\n",
        "\n",
        "  test_score = (TP + TN) / (TP + TN + FN + FP)\n",
        "\n",
        "  print(cm)\n",
        "  print('Model[{}] Testing Accuracy = \"{}\"'.format(i, test_score))\n",
        "  print()"
      ],
      "execution_count": null,
      "outputs": []
    },
    {
      "cell_type": "code",
      "metadata": {
        "id": "8QM6zZxkqOUG",
        "colab_type": "code",
        "colab": {}
      },
      "source": [
        "# Get feature importance\n",
        "forest = model[6]\n",
        "importances = pd.DataFrame({'feature': titanic.iloc[:, 1:8].columns, 'importance': np.round(forest.feature_importances_, 3)} )\n",
        "importances = importances.sort_values('importance', ascending= False).set_index('feature')\n",
        "importances"
      ],
      "execution_count": null,
      "outputs": []
    },
    {
      "cell_type": "code",
      "metadata": {
        "id": "T47HHcnnr00d",
        "colab_type": "code",
        "colab": {}
      },
      "source": [
        "# Visualize the importance\n",
        "importances.plot.bar()"
      ],
      "execution_count": null,
      "outputs": []
    },
    {
      "cell_type": "code",
      "metadata": {
        "id": "Lk5csNzysKUr",
        "colab_type": "code",
        "colab": {}
      },
      "source": [
        "# Print the prediction of the forest classifier\n",
        "pred = model[6].predict(X_test)\n",
        "print(pred)\n",
        "\n",
        "print()\n",
        "\n",
        "# Print the actual values\n",
        "print(Y_test)"
      ],
      "execution_count": null,
      "outputs": []
    },
    {
      "cell_type": "code",
      "metadata": {
        "id": "hS401WY0smG3",
        "colab_type": "code",
        "colab": {}
      },
      "source": [
        "# My survival\n",
        "my_survival = [[3, 1, 12, 10, 8, 0, 1 ]]\n",
        "\n",
        "# Scaling my survival\n",
        "from sklearn.preprocessing import StandardScaler\n",
        "sc = StandardScaler()\n",
        "my_survival_scaled = sc.fit_transform(my_survival)\n",
        "\n",
        "# Print prediction of my survival using Random Forest Classifier\n",
        "pred = model[6].predict(my_survival_scaled)\n",
        "print(pred)\n",
        "\n",
        "if pred == 0:\n",
        "  print('Oh no! You died')\n",
        "else:\n",
        "  print('Good Job! You survived! And you did not Die!')\n",
        "\n"
      ],
      "execution_count": null,
      "outputs": []
    }
  ]
}